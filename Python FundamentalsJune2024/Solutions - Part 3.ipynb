{
 "cells": [
  {
   "cell_type": "markdown",
   "metadata": {
    "editable": true,
    "slideshow": {
     "slide_type": ""
    },
    "tags": []
   },
   "source": [
    "### Comparison Operators\n",
    "\n",
    "```python\n",
    "a = 20\n",
    "b = 30\n",
    "print(a > b)\n",
    "```\n",
    "\n",
    "1. Assign the variables `a = 20` and `b = 30`\n",
    "2. Print if `a` is equal to `b`\n",
    "3. Print if `a` is not equal to `b`\n",
    "4. Print if `a` is greater than `b`\n",
    "5. Print if `a` is smaller than `b`\n",
    "6. Print if `a` is greater than or equal to `b`\n",
    "7. Print if `a` is smaller than or equal to `b`"
   ]
  },
  {
   "cell_type": "code",
   "execution_count": 1,
   "metadata": {},
   "outputs": [],
   "source": [
    "# Exercise 1\n",
    "a = 20\n",
    "b = 30"
   ]
  },
  {
   "cell_type": "code",
   "execution_count": 2,
   "metadata": {},
   "outputs": [
    {
     "data": {
      "text/plain": [
       "False"
      ]
     },
     "execution_count": 2,
     "metadata": {},
     "output_type": "execute_result"
    }
   ],
   "source": [
    "# Exercise 2\n",
    "a == b"
   ]
  },
  {
   "cell_type": "code",
   "execution_count": 3,
   "metadata": {},
   "outputs": [
    {
     "data": {
      "text/plain": [
       "True"
      ]
     },
     "execution_count": 3,
     "metadata": {},
     "output_type": "execute_result"
    }
   ],
   "source": [
    "# Exercise 3\n",
    "a != b"
   ]
  },
  {
   "cell_type": "code",
   "execution_count": 4,
   "metadata": {},
   "outputs": [
    {
     "data": {
      "text/plain": [
       "False"
      ]
     },
     "execution_count": 4,
     "metadata": {},
     "output_type": "execute_result"
    }
   ],
   "source": [
    "# Exercise 4\n",
    "a > b"
   ]
  },
  {
   "cell_type": "code",
   "execution_count": 5,
   "metadata": {},
   "outputs": [
    {
     "data": {
      "text/plain": [
       "True"
      ]
     },
     "execution_count": 5,
     "metadata": {},
     "output_type": "execute_result"
    }
   ],
   "source": [
    "# Exercise 5\n",
    "a < b"
   ]
  },
  {
   "cell_type": "code",
   "execution_count": 6,
   "metadata": {},
   "outputs": [
    {
     "data": {
      "text/plain": [
       "False"
      ]
     },
     "execution_count": 6,
     "metadata": {},
     "output_type": "execute_result"
    }
   ],
   "source": [
    "# Exercise 6\n",
    "a >= b"
   ]
  },
  {
   "cell_type": "code",
   "execution_count": 7,
   "metadata": {},
   "outputs": [
    {
     "data": {
      "text/plain": [
       "True"
      ]
     },
     "execution_count": 7,
     "metadata": {},
     "output_type": "execute_result"
    }
   ],
   "source": [
    "# Exercise 7\n",
    "a <= b"
   ]
  },
  {
   "cell_type": "markdown",
   "metadata": {},
   "source": [
    "### If / Else\n",
    "\n",
    "```python\n",
    "# Example\n",
    "if temperature > 85:\n",
    "    print(\"It is hot\")\n",
    "else:\n",
    "    print(\"It is nice\")\n",
    "```\n",
    "\n",
    "\n",
    "Exercises:\n",
    "\n",
    "1. Assign the variable `score = int(input(\"What was your (percentage) score? \"))`. Enter 80 in the prompt when you run the cell.\n",
    "2. A passing grade is 70% and above. Write a program with a `if` and `else` statement to check if a student has passed. If so, it should print `\"Passed\"`, else it should print `\"Failed\"`\n",
    "3. Write a program that uses if/else statements to convert a percentage score to a letter grade (see the table above). You will need multiple `elif` statements to include all the options. The output should be a print statement:\n",
    "`Your score of 99 corresponds with the letter grade A`\n",
    "4. Test if the program works for 95%, 72% and 60%\n",
    "\n",
    "| Percentage | Letter Grade |\n",
    "|:----------:|:------------:|\n",
    "|  90%–100%  |       A      |\n",
    "|   80%–89%  |       B      |\n",
    "|   70%–79%  |       C      |\n",
    "|   60%–69%  |       D      |\n",
    "|    < 60%   |       F      |\n",
    "\n",
    "\n"
   ]
  },
  {
   "cell_type": "code",
   "execution_count": 8,
   "metadata": {},
   "outputs": [
    {
     "name": "stdout",
     "output_type": "stream",
     "text": [
      "What was your (percentage) score? 95\n"
     ]
    }
   ],
   "source": [
    "# Exercise 1\n",
    "score = int(input(\"What was your (percentage) score? \"))"
   ]
  },
  {
   "cell_type": "code",
   "execution_count": 9,
   "metadata": {},
   "outputs": [
    {
     "name": "stdout",
     "output_type": "stream",
     "text": [
      "Passed\n"
     ]
    }
   ],
   "source": [
    "# Exercise 2\n",
    "if score >= 70:\n",
    "    print(\"Passed\")\n",
    "else:\n",
    "    print(\"Failed\")"
   ]
  },
  {
   "cell_type": "code",
   "execution_count": 10,
   "metadata": {},
   "outputs": [
    {
     "name": "stdout",
     "output_type": "stream",
     "text": [
      "Your score of 95 corresponds with the letter grade A\n"
     ]
    }
   ],
   "source": [
    "# Exercise 3\n",
    "if score >= 90:\n",
    "    grade = \"A\"\n",
    "elif score >= 80:\n",
    "    grade = \"B\"\n",
    "elif score >= 70:\n",
    "    grade = \"C\"\n",
    "elif score >= 60:\n",
    "    grade = \"D\"\n",
    "else:\n",
    "    grade = \"F\"\n",
    "print(f\"Your score of {score} corresponds with the letter grade {grade}\")"
   ]
  },
  {
   "cell_type": "code",
   "execution_count": 11,
   "metadata": {},
   "outputs": [],
   "source": [
    "# Exercise 4\n",
    "pass"
   ]
  },
  {
   "cell_type": "markdown",
   "metadata": {},
   "source": [
    "### Logical and membership operators\n",
    "\n",
    "```python\n",
    "\n",
    "```\n",
    "\n",
    "Tickets for the theme park \"RollerCoasterLand\" normally cost $25. They also have promotions:\n",
    "- Free for children under 13\n",
    "- Free for elderly of 65 years and older\n",
    "\n",
    "\n",
    "Exercise:\n",
    "1. Use the `input()` function to get the age from the user and save it in a variable\n",
    "2. Create a program to calculate and print the price of the ticket. \n",
    "3. Test your program for various user inputs and check if it works correctly\n",
    "\n",
    "*Extra challenge*: Add another promotion: 40% discount for \"season pass\" holders. Use the `input()` function to ask if the user has a season pass and add logic to your program."
   ]
  },
  {
   "cell_type": "code",
   "execution_count": 12,
   "metadata": {
    "editable": true,
    "slideshow": {
     "slide_type": ""
    },
    "tags": []
   },
   "outputs": [
    {
     "name": "stdout",
     "output_type": "stream",
     "text": [
      "What is your age? 42\n"
     ]
    }
   ],
   "source": [
    "# Exercise 1\n",
    "age = int(input(\"What is your age? \"))"
   ]
  },
  {
   "cell_type": "code",
   "execution_count": 13,
   "metadata": {},
   "outputs": [
    {
     "name": "stdout",
     "output_type": "stream",
     "text": [
      "Your ticket price is $25\n"
     ]
    }
   ],
   "source": [
    "# Exercise 2\n",
    "if age < 13 or age >= 65:\n",
    "    price = 0\n",
    "else:\n",
    "    price = 25\n",
    "\n",
    "print(f\"Your ticket price is ${price}\")"
   ]
  },
  {
   "cell_type": "code",
   "execution_count": 14,
   "metadata": {},
   "outputs": [],
   "source": [
    "# Exercise 3\n",
    "pass"
   ]
  },
  {
   "cell_type": "code",
   "execution_count": 15,
   "metadata": {},
   "outputs": [
    {
     "name": "stdout",
     "output_type": "stream",
     "text": [
      "Do you have a season pass? [y/n] y\n",
      "Your ticket price is $15.0\n"
     ]
    }
   ],
   "source": [
    "# Extra challenge\n",
    "season_pass = input(\"Do you have a season pass? [y/n] \")\n",
    "\n",
    "if season_pass == \"y\":\n",
    "    price = price * 0.6\n",
    "    \n",
    "print(f\"Your ticket price is ${price}\")"
   ]
  },
  {
   "cell_type": "markdown",
   "metadata": {},
   "source": [
    "### For Loops\n",
    "\n",
    "```python\n",
    "# Example\n",
    "ingredients = [\"egg\", \"bacon\", \"sausage\", \"spam\"]\n",
    "for item in ingredients:\n",
    "    print(item)\n",
    "```\n",
    "\n",
    "1. Assign the variable `planets = [\"Mercury\", \"Venus\", \"Earth\", \"Mars\", \"Jupiter\", \"Saturn\", \"Uranus\", \"Neptune\"]`\n",
    "2. Create a for loop to print every planet to the screen (one by one, on seperate lines)\n",
    "3. We are only interested in *other* planets. So create a for loop again that prints all the planets, except for \"Earth\" (hint: use a `if` statement and the `continue` statement)\n",
    "\n",
    "*Extra challenge*: create a loop that prints all the planets, but now with their respective place number in the list. So the expected output is:\n",
    "```\n",
    "1 Mercury\n",
    "2 Venus\n",
    "3 Earth\n",
    "...etc\n",
    "```"
   ]
  },
  {
   "cell_type": "code",
   "execution_count": 16,
   "metadata": {},
   "outputs": [],
   "source": [
    "# Exercise 1 \n",
    "planets = [\"Mercury\", \"Venus\", \"Earth\", \"Mars\", \"Jupiter\", \"Saturn\", \"Uranus\", \"Neptune\", \"Pluto\"]"
   ]
  },
  {
   "cell_type": "code",
   "execution_count": 17,
   "metadata": {},
   "outputs": [
    {
     "name": "stdout",
     "output_type": "stream",
     "text": [
      "Mercury\n",
      "Venus\n",
      "Earth\n",
      "Mars\n",
      "Jupiter\n",
      "Saturn\n",
      "Uranus\n",
      "Neptune\n",
      "Pluto\n"
     ]
    }
   ],
   "source": [
    "# Exercise 2\n",
    "for planet in planets:\n",
    "    print(planet)"
   ]
  },
  {
   "cell_type": "code",
   "execution_count": 18,
   "metadata": {},
   "outputs": [
    {
     "name": "stdout",
     "output_type": "stream",
     "text": [
      "Mercury\n",
      "Venus\n",
      "Mars\n",
      "Jupiter\n",
      "Saturn\n",
      "Uranus\n",
      "Neptune\n",
      "Pluto\n"
     ]
    }
   ],
   "source": [
    "# Exercise 3\n",
    "for planet in planets:\n",
    "    if planet == \"Earth\":\n",
    "        continue\n",
    "    print(planet)"
   ]
  },
  {
   "cell_type": "code",
   "execution_count": 19,
   "metadata": {},
   "outputs": [
    {
     "name": "stdout",
     "output_type": "stream",
     "text": [
      "1 Mercury\n",
      "2 Venus\n",
      "3 Earth\n",
      "4 Mars\n",
      "5 Jupiter\n",
      "6 Saturn\n",
      "7 Uranus\n",
      "8 Neptune\n",
      "9 Pluto\n"
     ]
    }
   ],
   "source": [
    "# Extra challenge\n",
    "n = 1\n",
    "for planet in planets:\n",
    "    print(n, planet)\n",
    "    n = n + 1"
   ]
  },
  {
   "cell_type": "markdown",
   "metadata": {},
   "source": [
    "### While Loops\n",
    "\n",
    "```python\n",
    "# Example\n",
    "x = 0\n",
    "while x < 5:\n",
    "    print(x)\n",
    "    x = x + 1\n",
    "```\n",
    "\n",
    "Exercise: \n",
    "1. Create a `while` loop that prints `even` numbers from 0 to 10 (so 0, 2, 4, 6, etc.)\n",
    "2. Create a `while` loop that prints `even` numbers to screen, but stops (`breaks`) after 4"
   ]
  },
  {
   "cell_type": "code",
   "execution_count": 20,
   "metadata": {},
   "outputs": [
    {
     "name": "stdout",
     "output_type": "stream",
     "text": [
      "0\n",
      "2\n",
      "4\n",
      "6\n",
      "8\n",
      "10\n"
     ]
    }
   ],
   "source": [
    "# Exercise 1\n",
    "x = 0\n",
    "while x < 11:\n",
    "    print(x)\n",
    "    x = x + 2"
   ]
  },
  {
   "cell_type": "code",
   "execution_count": 21,
   "metadata": {
    "editable": true,
    "slideshow": {
     "slide_type": ""
    },
    "tags": []
   },
   "outputs": [
    {
     "name": "stdout",
     "output_type": "stream",
     "text": [
      "0\n",
      "2\n",
      "4\n"
     ]
    }
   ],
   "source": [
    "# Exercise 2\n",
    "x = 0\n",
    "while True:\n",
    "    if x > 4:\n",
    "        break\n",
    "    print(x)\n",
    "    x = x + 2"
   ]
  },
  {
   "cell_type": "markdown",
   "metadata": {},
   "source": [
    "### Range\n",
    "\n",
    "```python\n",
    "# Example range\n",
    "for n in range(5):\n",
    "    print(n)\n",
    "```\n",
    "\n",
    "Exercises: \n",
    "1. Create a loop with the `range()` function that prints the numbers from 0 to 10\n",
    "2. Create a loop with the `range()` function that prints the `even` numbers from 10 to 20\n",
    "\n",
    "Documentation: https://docs.python.org/3/library/stdtypes.html#range"
   ]
  },
  {
   "cell_type": "code",
   "execution_count": 22,
   "metadata": {},
   "outputs": [
    {
     "name": "stdout",
     "output_type": "stream",
     "text": [
      "0\n",
      "1\n",
      "2\n",
      "3\n",
      "4\n",
      "5\n",
      "6\n",
      "7\n",
      "8\n",
      "9\n",
      "10\n"
     ]
    }
   ],
   "source": [
    "# Exercise 1\n",
    "for x in range(11):\n",
    "    print(x)"
   ]
  },
  {
   "cell_type": "code",
   "execution_count": 23,
   "metadata": {
    "editable": true,
    "slideshow": {
     "slide_type": ""
    },
    "tags": []
   },
   "outputs": [
    {
     "name": "stdout",
     "output_type": "stream",
     "text": [
      "10\n",
      "12\n",
      "14\n",
      "16\n",
      "18\n",
      "20\n"
     ]
    }
   ],
   "source": [
    "# Exercise 2\n",
    "for x in range(10, 21, 2):\n",
    "    print(x)"
   ]
  },
  {
   "cell_type": "markdown",
   "metadata": {},
   "source": [
    "### Enumerate\n",
    "\n",
    "```python\n",
    "# Example\n",
    "ingredients = [\"spam\", \"bacon\", \"ham\", \"eggs\"]\n",
    "\n",
    "for i, item in enumerate(ingredients, start=0):\n",
    "    print(i, item)\n",
    "```\n",
    "\n",
    "Exercises: \n",
    "1. Assign the variable `databases = [\"MySQL\", \"PostgreSQL\", \"MongoDB\", \"Redis\"]`\n",
    "2. Use the `enumerate()` function to print the databases with their respective position in the list.\n",
    "\n",
    "```\n",
    "# Desired output\n",
    "1 MySQL\n",
    "2 PostgreSQL\n",
    "3 MongoDB\n",
    "4 Redis\n",
    "```\n",
    "\n"
   ]
  },
  {
   "cell_type": "code",
   "execution_count": 24,
   "metadata": {},
   "outputs": [],
   "source": [
    "# Exercise 1\n",
    "databases = [\"MySQL\", \"PostgreSQL\", \"MongoDB\", \"Redis\"]"
   ]
  },
  {
   "cell_type": "code",
   "execution_count": 25,
   "metadata": {},
   "outputs": [
    {
     "name": "stdout",
     "output_type": "stream",
     "text": [
      "1 MySQL\n",
      "2 PostgreSQL\n",
      "3 MongoDB\n",
      "4 Redis\n"
     ]
    }
   ],
   "source": [
    "# Exercise 2\n",
    "for i, db in enumerate(databases, start=1):\n",
    "    print(i, db)"
   ]
  },
  {
   "cell_type": "markdown",
   "metadata": {},
   "source": [
    "### Loop over Dictionaries\n",
    "\n",
    "```python\n",
    "# Example\n",
    "grades = {\"French\": 75, \"English\": 95, \"Math\": 100, \"Biology\": 80}\n",
    "for key, value in grades.items():\n",
    "    print(key, value)\n",
    "```\n",
    "\n",
    "Exercise:\n",
    "1. Assign the variable `person = {\"name\": \"Alice\", \"age\": 42, \"email\": \"alice@wonderland.com\", \"country\": \"U.K.\"}`\n",
    "2. Create a loop using the `.items()` method to print all the key/value pairs. The output should look as follows:\n",
    "\n",
    "```\n",
    "# Desired output\n",
    "name: Alice\n",
    "age: 42\n",
    "email: alice@wonderland.com\n",
    "country: U.K.\n",
    "```\n",
    "\n",
    "*Extra challenge*: Search the internet on how to print the items (justified) with padding, so it looks a little nicer:\n",
    "\n",
    "```\n",
    "# Desired output\n",
    "name      : Alice\n",
    "age       : 42\n",
    "email     : alice@wonderland.com\n",
    "country   : U.K.\n",
    "```"
   ]
  },
  {
   "cell_type": "code",
   "execution_count": 26,
   "metadata": {},
   "outputs": [],
   "source": [
    "# Exercise 1\n",
    "person = {\"name\": \"Alice\", \"age\": 42, \"email\": \"alice@wonderland.com\", \"country\": \"U.K.\"}"
   ]
  },
  {
   "cell_type": "code",
   "execution_count": 27,
   "metadata": {},
   "outputs": [
    {
     "name": "stdout",
     "output_type": "stream",
     "text": [
      "name: Alice\n",
      "name: Alice\n",
      "age: 42\n",
      "age: 42\n",
      "email: alice@wonderland.com\n",
      "email: alice@wonderland.com\n",
      "country: U.K.\n",
      "country: U.K.\n"
     ]
    }
   ],
   "source": [
    "# Exercise 2\n",
    "for k, v, in person.items():\n",
    "    print(k, \": \", v, sep=\"\")\n",
    "    print(f\"{k}: {v}\")  # alternative"
   ]
  },
  {
   "cell_type": "code",
   "execution_count": 28,
   "metadata": {},
   "outputs": [
    {
     "name": "stdout",
     "output_type": "stream",
     "text": [
      "name       : Alice\n",
      "name       : Alice\n",
      "age        : 42\n",
      "age        : 42\n",
      "email      : alice@wonderland.com\n",
      "email      : alice@wonderland.com\n",
      "country    : U.K.\n",
      "country    : U.K.\n"
     ]
    }
   ],
   "source": [
    "# Extra challenge\n",
    "for k, v, in person.items():\n",
    "    print(k.ljust(10), \":\", v)\n",
    "    print(f\"{k:10} : {v}\")  # alternative"
   ]
  }
 ],
 "metadata": {
  "kernelspec": {
   "display_name": "Python 3 (ipykernel)",
   "language": "python",
   "name": "python3"
  },
  "language_info": {
   "codemirror_mode": {
    "name": "ipython",
    "version": 3
   },
   "file_extension": ".py",
   "mimetype": "text/x-python",
   "name": "python",
   "nbconvert_exporter": "python",
   "pygments_lexer": "ipython3",
   "version": "3.11.9"
  }
 },
 "nbformat": 4,
 "nbformat_minor": 4
}

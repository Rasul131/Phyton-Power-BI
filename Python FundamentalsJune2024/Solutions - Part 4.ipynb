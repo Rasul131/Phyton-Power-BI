{
 "cells": [
  {
   "cell_type": "markdown",
   "metadata": {},
   "source": [
    "### Built-in Functions\n",
    "\n",
    "\n",
    "```python\n",
    "# Example\n",
    "fruits = [\"apple\", \"kiwi\",\"orange\", \"banana\"]\n",
    "print(len(fruits))\n",
    "```\n",
    "\n",
    "Exercise:\n",
    "1. Assing the variable `numbers = [26473.014, -13474, -3669.4, 178934, 94371]`\n",
    "2. Use the `min()` function to print the lowest number\n",
    "3. Use the `max()` function to print the highest number\n",
    "4. Use the `sum()` function the print the sum of all the numbers\n",
    "\n",
    "*Extra challenge*: create a new list called `numbers_rounded` with the all the values from `numbers` rounded. You can use the `round()` function. The ouput of printing the list should be `[26473, -13474, -3669, 178934, 94371]`"
   ]
  },
  {
   "cell_type": "code",
   "execution_count": 1,
   "metadata": {},
   "outputs": [],
   "source": [
    "# Exercise 1\n",
    "numbers = [26473.014, -13474, -3669.4, 178934, 94371]"
   ]
  },
  {
   "cell_type": "code",
   "execution_count": 2,
   "metadata": {},
   "outputs": [
    {
     "data": {
      "text/plain": [
       "-13474"
      ]
     },
     "execution_count": 2,
     "metadata": {},
     "output_type": "execute_result"
    }
   ],
   "source": [
    "# Exercise 2\n",
    "min(numbers)"
   ]
  },
  {
   "cell_type": "code",
   "execution_count": 3,
   "metadata": {},
   "outputs": [
    {
     "data": {
      "text/plain": [
       "178934"
      ]
     },
     "execution_count": 3,
     "metadata": {},
     "output_type": "execute_result"
    }
   ],
   "source": [
    "# Exercise 3\n",
    "max(numbers)"
   ]
  },
  {
   "cell_type": "code",
   "execution_count": 4,
   "metadata": {},
   "outputs": [
    {
     "data": {
      "text/plain": [
       "282634.614"
      ]
     },
     "execution_count": 4,
     "metadata": {},
     "output_type": "execute_result"
    }
   ],
   "source": [
    "# Exercise 4\n",
    "sum(numbers)"
   ]
  },
  {
   "cell_type": "code",
   "execution_count": 5,
   "metadata": {},
   "outputs": [
    {
     "name": "stdout",
     "output_type": "stream",
     "text": [
      "[26473, -13474, -3669, 178934, 94371]\n",
      "[26473, -13474, -3669, 178934, 94371]\n"
     ]
    }
   ],
   "source": [
    "# Extra challenge\n",
    "numbers_rounded = []\n",
    "for n in numbers:\n",
    "    round_number = round(n)\n",
    "    numbers_rounded.append(round_number)\n",
    "print(numbers_rounded)\n",
    "\n",
    "# List comprehension\n",
    "numbers_rounded = [round(n) for n in numbers]\n",
    "print(numbers_rounded)"
   ]
  },
  {
   "cell_type": "markdown",
   "metadata": {},
   "source": [
    "### User Defined Functions 1\n",
    "\n",
    "```python\n",
    "# Example\n",
    "def convert_eur_to_usd(amount):\n",
    "    usd = amount * 1.08\n",
    "    return usd\n",
    "\n",
    "# Example\n",
    "round(3.14159265359, 4) # prints 3.1415 \n",
    "```\n",
    "\n",
    "Exercise:\n",
    "1. Create a function `convert_usd_to_eur` that converts an amount in USD to EUR\n",
    "2. Use your function to calculate how much `$150` is in euros\n",
    "3. Recreate the function to round the output of the function with two decimals\n",
    "4. How much is `$150` in Euro's, rounded to the cent?\n",
    "\n",
    "*Extra challenge*: instead of returning a numerical value, let the function return a string with the euro sign. So `print(convert_usd_to_eur(150))` should return `€138.89`"
   ]
  },
  {
   "cell_type": "code",
   "execution_count": 1,
   "metadata": {},
   "outputs": [],
   "source": [
    "# Exercise 1\n",
    "def convert_usd_to_eur(usd):\n",
    "    eur = usd / 1.08\n",
    "    return eur"
   ]
  },
  {
   "cell_type": "code",
   "execution_count": 2,
   "metadata": {},
   "outputs": [
    {
     "data": {
      "text/plain": [
       "138.88888888888889"
      ]
     },
     "execution_count": 2,
     "metadata": {},
     "output_type": "execute_result"
    }
   ],
   "source": [
    "# Exercise 2\n",
    "convert_usd_to_eur(150)"
   ]
  },
  {
   "cell_type": "code",
   "execution_count": 3,
   "metadata": {},
   "outputs": [],
   "source": [
    "# Exercise 3\n",
    "def convert_usd_to_eur(usd):\n",
    "    eur = usd / 1.08\n",
    "    return round(eur, 2)"
   ]
  },
  {
   "cell_type": "code",
   "execution_count": 4,
   "metadata": {},
   "outputs": [
    {
     "data": {
      "text/plain": [
       "138.89"
      ]
     },
     "execution_count": 4,
     "metadata": {},
     "output_type": "execute_result"
    }
   ],
   "source": [
    "# Exercise 4\n",
    "convert_usd_to_eur(150)"
   ]
  },
  {
   "cell_type": "code",
   "execution_count": 6,
   "metadata": {},
   "outputs": [
    {
     "name": "stdout",
     "output_type": "stream",
     "text": [
      "€138.89\n"
     ]
    }
   ],
   "source": [
    "# Extra challenge\n",
    "def convert_usd_to_eur(usd):\n",
    "    eur = round(usd / 1.08, 2)\n",
    "    return f\"€{eur}\"\n",
    "\n",
    "print(convert_usd_to_eur(150))"
   ]
  },
  {
   "cell_type": "markdown",
   "metadata": {},
   "source": [
    "### User Defined Functions 2\n",
    "\n",
    "```python\n",
    "# Example\n",
    "def add(x, y=None):\n",
    "    return x + y\n",
    "\n",
    "print(add(4, 5))  # prints 9\n",
    "```\n",
    "\n",
    "Exercise:\n",
    "1. Create a function `multiply` which takes `x` and `y` as inputs. The function should return `x` and `y` multiplied. \n",
    "2. Call the function with `multiply(4, 5)`. It should return `20`.\n",
    "3. Sometimes a user might not know the value of `y`. Recreate the function and assign `y` a default value of `1`.\n",
    "4. Call the function with `multiply(4)`. It should return `4` (instead of an error).\n",
    "\n",
    "\n",
    "*Extra challenge*: entering more are arguments, like `multiply(4, 5, 6, 7)` will result in an error. Search the internet for a solution. Can you change the function so that it can deal with an unknown amount of arguments?"
   ]
  },
  {
   "cell_type": "code",
   "execution_count": 1,
   "metadata": {},
   "outputs": [],
   "source": [
    "# Exercise 1\n",
    "def multiply(x, y):\n",
    "    return x * y"
   ]
  },
  {
   "cell_type": "code",
   "execution_count": 12,
   "metadata": {},
   "outputs": [
    {
     "data": {
      "text/plain": [
       "20"
      ]
     },
     "execution_count": 12,
     "metadata": {},
     "output_type": "execute_result"
    }
   ],
   "source": [
    "# Exercise 2\n",
    "multiply(4, 5)"
   ]
  },
  {
   "cell_type": "code",
   "execution_count": 13,
   "metadata": {},
   "outputs": [],
   "source": [
    "# Exercise 3\n",
    "def multiply(x, y=1):\n",
    "    return x * y"
   ]
  },
  {
   "cell_type": "code",
   "execution_count": 14,
   "metadata": {},
   "outputs": [
    {
     "data": {
      "text/plain": [
       "4"
      ]
     },
     "execution_count": 14,
     "metadata": {},
     "output_type": "execute_result"
    }
   ],
   "source": [
    "# Exercise 4\n",
    "multiply(4)"
   ]
  },
  {
   "cell_type": "code",
   "execution_count": 7,
   "metadata": {},
   "outputs": [
    {
     "name": "stdout",
     "output_type": "stream",
     "text": [
      "4\n",
      "20\n",
      "120\n",
      "840\n"
     ]
    }
   ],
   "source": [
    "# Extra challenge\n",
    "def multiply(x, y=1, *args):\n",
    "    result = x * y\n",
    "    for z in args:\n",
    "        result *= z\n",
    "    return result\n",
    "\n",
    "print(multiply(4))           # prints 4\n",
    "print(multiply(4, 5))        # prints 20\n",
    "print(multiply(4, 5, 6))     # prints 120\n",
    "print(multiply(4, 5, 6, 7))  # prints 840"
   ]
  },
  {
   "cell_type": "markdown",
   "metadata": {},
   "source": [
    "### Modules\n",
    "\n",
    "```python\n",
    "# Example\n",
    "import statistics\n",
    "numbers = [1, 2, 3, 4, 5, 6]\n",
    "statistics.mean(numbers)    # prints 3.5\n",
    "```\n",
    "Exercise:\n",
    "1. Import the built-in [math](https://docs.python.org/3/library/math.html#module-math) module and take a look at the documentation\n",
    "2. Print the square root of `21000`\n",
    "3. Use the `math` module to print the value of `pi`. Hint: see documentation, this is not a function, but a constant. So you dont need to call it with parentheses `()`.\n",
    "\n",
    "*Extra challenge*: use the built-in [collections](https://docs.python.org/3/library/collections.html#collections.Counter) module (hint: `from collections import Counter`) to find out which __two__ letters occurs the most often in the word `antidisestablishmentarianism`"
   ]
  },
  {
   "cell_type": "code",
   "execution_count": 16,
   "metadata": {},
   "outputs": [],
   "source": [
    "# Exercise 1\n",
    "import math"
   ]
  },
  {
   "cell_type": "code",
   "execution_count": 17,
   "metadata": {},
   "outputs": [
    {
     "name": "stdout",
     "output_type": "stream",
     "text": [
      "144.9137674618944\n"
     ]
    }
   ],
   "source": [
    "# Exercise 2\n",
    "print(math.sqrt(21000))"
   ]
  },
  {
   "cell_type": "code",
   "execution_count": 18,
   "metadata": {},
   "outputs": [
    {
     "name": "stdout",
     "output_type": "stream",
     "text": [
      "3.141592653589793\n"
     ]
    }
   ],
   "source": [
    "# Exercise 3\n",
    "print(math.pi)"
   ]
  },
  {
   "cell_type": "code",
   "execution_count": 19,
   "metadata": {},
   "outputs": [
    {
     "data": {
      "text/plain": [
       "[('i', 5), ('a', 4)]"
      ]
     },
     "execution_count": 19,
     "metadata": {},
     "output_type": "execute_result"
    }
   ],
   "source": [
    "# Extra challenge\n",
    "from collections import Counter\n",
    "Counter('antidisestablishmentarianism').most_common(2)"
   ]
  },
  {
   "cell_type": "markdown",
   "metadata": {},
   "source": [
    "### API Calls\n",
    "\n",
    "```python\n",
    "# Example\n",
    "import requests\n",
    "url = \"https://api.spacexdata.com/v5/launches/latest\"\n",
    "r = requests.get(url).json()\n",
    "r\n",
    "```\n",
    "\n",
    "Exercise:\n",
    "1. Pick your favourite API from the list below\n",
    "2. Take a look at the documentation. Look for the URL where you can get the data.\n",
    "3. Make an API call (similar to the example above)\n",
    "4. Inpsect the results in `r`\n",
    "5. *Optional*: to print only information you are interested in. You can use the `.keys()` and `.values()` methods to inspect a `dictionary`. If you retrieved a `list` of dictionaries, you could loop through the results.\n",
    "6. Do the same exercise for another API in the list\n",
    "\n",
    "List of public APIs:\n",
    "\n",
    "| Name               | URL                                    |\n",
    "|:-------------------|:---------------------------------------|\n",
    "| Open Brewery DB    | https://www.openbrewerydb.org          |\n",
    "| Open Library API   | https://openlibrary.org/developers/api |\n",
    "| Pokemon API        | https://pokeapi.co                     |\n",
    "| SpaceX API         | https://github.com/r-spacex/SpaceX-API |\n",
    "| Star Wars API      | https://swapi.dev                      |\n",
    "\n",
    "\n",
    "\n",
    "\n",
    "*Extra challenge*: Many online tools offer REST API access to their product. For example, [HubSpot](https://developers.hubspot.com/docs/api/overview), [Dropbox](https://github.com/dropbox/dropbox-sdk-python), [Trello](https://developer.atlassian.com/cloud/trello/guides/rest-api/api-introduction/) and many others. Search the internet for APIs of the tools you are using. Most often, you will need to authenticate with an API key. Explore the APIs documentation for the authentication process. Can you retrieve your data from these tools?"
   ]
  },
  {
   "cell_type": "code",
   "execution_count": 3,
   "metadata": {},
   "outputs": [],
   "source": [
    "# Import requests\n",
    "import requests"
   ]
  },
  {
   "cell_type": "code",
   "execution_count": 5,
   "metadata": {
    "scrolled": true
   },
   "outputs": [
    {
     "data": {
      "text/plain": [
       "{'id': '5128df48-79fc-4f0f-8b52-d06be54d0cec',\n",
       " 'name': '(405) Brewing Co',\n",
       " 'brewery_type': 'micro',\n",
       " 'address_1': '1716 Topeka St',\n",
       " 'address_2': None,\n",
       " 'address_3': None,\n",
       " 'city': 'Norman',\n",
       " 'state_province': 'Oklahoma',\n",
       " 'postal_code': '73069-8224',\n",
       " 'country': 'United States',\n",
       " 'longitude': '-97.46818222',\n",
       " 'latitude': '35.25738891',\n",
       " 'phone': '4058160490',\n",
       " 'website_url': 'http://www.405brewing.com',\n",
       " 'state': 'Oklahoma',\n",
       " 'street': '1716 Topeka St'}"
      ]
     },
     "execution_count": 5,
     "metadata": {},
     "output_type": "execute_result"
    }
   ],
   "source": [
    "# OpenBreweries\n",
    "url = \"https://api.openbrewerydb.org/breweries\"\n",
    "r = requests.get(url).json()\n",
    "r[0]"
   ]
  },
  {
   "cell_type": "code",
   "execution_count": 10,
   "metadata": {},
   "outputs": [
    {
     "data": {
      "text/plain": [
       "['J.R.R. Tolkien']"
      ]
     },
     "execution_count": 10,
     "metadata": {},
     "output_type": "execute_result"
    }
   ],
   "source": [
    "# OpenLibrary\n",
    "url = \"http://openlibrary.org/search.json?title=the+lord+of+the+rings\"\n",
    "r = requests.get(url).json()\n",
    "r[\"docs\"][0][\"author_name\"]"
   ]
  },
  {
   "cell_type": "code",
   "execution_count": 11,
   "metadata": {},
   "outputs": [
    {
     "data": {
      "text/plain": [
       "[{'ability': {'name': 'static', 'url': 'https://pokeapi.co/api/v2/ability/9/'},\n",
       "  'is_hidden': False,\n",
       "  'slot': 1},\n",
       " {'ability': {'name': 'lightning-rod',\n",
       "   'url': 'https://pokeapi.co/api/v2/ability/31/'},\n",
       "  'is_hidden': True,\n",
       "  'slot': 3}]"
      ]
     },
     "execution_count": 11,
     "metadata": {},
     "output_type": "execute_result"
    }
   ],
   "source": [
    "# Pokemon - Pikachu\n",
    "name = \"pikachu\"\n",
    "url = f\"https://pokeapi.co/api/v2/pokemon/{name}/\"\n",
    "r = requests.get(url).json()\n",
    "r[\"abilities\"]"
   ]
  },
  {
   "cell_type": "code",
   "execution_count": 12,
   "metadata": {},
   "outputs": [
    {
     "data": {
      "text/plain": [
       "{'fairings': {'reused': None,\n",
       "  'recovery_attempt': None,\n",
       "  'recovered': None,\n",
       "  'ships': []},\n",
       " 'links': {'patch': {'small': None, 'large': None},\n",
       "  'reddit': {'campaign': None,\n",
       "   'launch': None,\n",
       "   'media': None,\n",
       "   'recovery': None},\n",
       "  'flickr': {'small': [], 'original': []},\n",
       "  'presskit': None,\n",
       "  'webcast': 'https://youtu.be/pY628jRd6gM',\n",
       "  'youtube_id': 'pY628jRd6gM',\n",
       "  'article': None,\n",
       "  'wikipedia': None},\n",
       " 'static_fire_date_utc': None,\n",
       " 'static_fire_date_unix': None,\n",
       " 'net': False,\n",
       " 'window': None,\n",
       " 'rocket': '5e9d0d95eda69974db09d1ed',\n",
       " 'success': None,\n",
       " 'failures': [],\n",
       " 'details': None,\n",
       " 'crew': [],\n",
       " 'ships': [],\n",
       " 'capsules': [],\n",
       " 'payloads': ['5fe3b86eb3467846b324217c'],\n",
       " 'launchpad': '5e9e4502f509094188566f88',\n",
       " 'flight_number': 188,\n",
       " 'name': 'USSF-44',\n",
       " 'date_utc': '2022-11-01T13:41:00.000Z',\n",
       " 'date_unix': 1667310060,\n",
       " 'date_local': '2022-11-01T09:41:00-04:00',\n",
       " 'date_precision': 'hour',\n",
       " 'upcoming': True,\n",
       " 'cores': [{'core': '5fe3b8f2b3467846b3242181',\n",
       "   'flight': 1,\n",
       "   'gridfins': True,\n",
       "   'legs': True,\n",
       "   'reused': False,\n",
       "   'landing_attempt': None,\n",
       "   'landing_success': None,\n",
       "   'landing_type': None,\n",
       "   'landpad': None},\n",
       "  {'core': '5fe3b8fbb3467846b3242182',\n",
       "   'flight': 1,\n",
       "   'gridfins': True,\n",
       "   'legs': True,\n",
       "   'reused': False,\n",
       "   'landing_attempt': None,\n",
       "   'landing_success': None,\n",
       "   'landing_type': None,\n",
       "   'landpad': None},\n",
       "  {'core': '5fe3b906b3467846b3242183',\n",
       "   'flight': 1,\n",
       "   'gridfins': True,\n",
       "   'legs': True,\n",
       "   'reused': False,\n",
       "   'landing_attempt': None,\n",
       "   'landing_success': None,\n",
       "   'landing_type': None,\n",
       "   'landpad': None}],\n",
       " 'auto_update': True,\n",
       " 'tbd': False,\n",
       " 'launch_library_id': '2306e0bc-e1a3-4a4a-9285-e1a94073655e',\n",
       " 'id': '6243aec2af52800c6e91925d'}"
      ]
     },
     "execution_count": 12,
     "metadata": {},
     "output_type": "execute_result"
    }
   ],
   "source": [
    "# SpaceX Launches\n",
    "url = \"https://api.spacexdata.com/v5/launches/upcoming\"\n",
    "r = requests.get(url).json()\n",
    "r[0]"
   ]
  },
  {
   "cell_type": "code",
   "execution_count": 14,
   "metadata": {},
   "outputs": [
    {
     "data": {
      "text/plain": [
       "{'name': 'Luke Skywalker',\n",
       " 'height': '172',\n",
       " 'mass': '77',\n",
       " 'hair_color': 'blond',\n",
       " 'skin_color': 'fair',\n",
       " 'eye_color': 'blue',\n",
       " 'birth_year': '19BBY',\n",
       " 'gender': 'male',\n",
       " 'homeworld': 'https://swapi.dev/api/planets/1/',\n",
       " 'films': ['https://swapi.dev/api/films/1/',\n",
       "  'https://swapi.dev/api/films/2/',\n",
       "  'https://swapi.dev/api/films/3/',\n",
       "  'https://swapi.dev/api/films/6/'],\n",
       " 'species': [],\n",
       " 'vehicles': ['https://swapi.dev/api/vehicles/14/',\n",
       "  'https://swapi.dev/api/vehicles/30/'],\n",
       " 'starships': ['https://swapi.dev/api/starships/12/',\n",
       "  'https://swapi.dev/api/starships/22/'],\n",
       " 'created': '2014-12-09T13:50:51.644000Z',\n",
       " 'edited': '2014-12-20T21:17:56.891000Z',\n",
       " 'url': 'https://swapi.dev/api/people/1/'}"
      ]
     },
     "execution_count": 14,
     "metadata": {},
     "output_type": "execute_result"
    }
   ],
   "source": [
    "# StarWars People\n",
    "url = \"https://swapi.dev/api/people/\"\n",
    "r = requests.get(url).json()\n",
    "r[\"results\"][0]"
   ]
  },
  {
   "cell_type": "code",
   "execution_count": null,
   "metadata": {},
   "outputs": [],
   "source": []
  }
 ],
 "metadata": {
  "kernelspec": {
   "display_name": "Python 3 (ipykernel)",
   "language": "python",
   "name": "python3"
  },
  "language_info": {
   "codemirror_mode": {
    "name": "ipython",
    "version": 3
   },
   "file_extension": ".py",
   "mimetype": "text/x-python",
   "name": "python",
   "nbconvert_exporter": "python",
   "pygments_lexer": "ipython3",
   "version": "3.11.9"
  }
 },
 "nbformat": 4,
 "nbformat_minor": 4
}

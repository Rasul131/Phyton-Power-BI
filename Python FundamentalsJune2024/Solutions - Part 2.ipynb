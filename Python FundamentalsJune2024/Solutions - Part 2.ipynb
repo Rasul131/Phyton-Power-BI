{
 "cells": [
  {
   "cell_type": "markdown",
   "metadata": {
    "editable": true,
    "slideshow": {
     "slide_type": ""
    },
    "tags": []
   },
   "source": [
    "### Lists\n",
    "\n",
    "```python\n",
    "# Example\n",
    "cars = [\"Ford\", \"Mercedes\", \"Nissan\"]\n",
    "cars[0] = \"Tesla\"\n",
    "print(cars)  # prints ['Tesla', 'Mercedes', 'Nissan']\n",
    "```\n",
    "\n",
    "1. Assign the variable `fruits = [\"apple\", \"pear\", \"banana\", \"mango\", \"peach\"]`\n",
    "2. Use the square brackets `[` `]` to print only `\"banana\"`\n",
    "3. Use the square brackets `[` `]` to print only the last to items `\"mango\"` and `\"peach\"`\n",
    "4. Use the square brackets `[` `]` to replace `\"apple\"` with `\"orange\"` (see the example) and print the list of fruits to the screen\n",
    "5. Use `.append()` method to add `\"kiwi\"` to the list of fruits and print the list of fruits to the screen\n",
    "6. Remove `\"pear\"` from the list of fruits and print the list of fruits to the screen\n",
    "\n",
    "*Extra challenge*: check out the [documentation](https://docs.python.org/3/tutorial/datastructures.html?highlight=lists#more-on-lists) for lists and try out some other methods."
   ]
  },
  {
   "cell_type": "code",
   "execution_count": 1,
   "metadata": {},
   "outputs": [],
   "source": [
    "# Exercise 1\n",
    "fruits = [\"apple\", \"pear\", \"banana\", \"mango\", \"peach\"]"
   ]
  },
  {
   "cell_type": "code",
   "execution_count": 2,
   "metadata": {},
   "outputs": [
    {
     "data": {
      "text/plain": [
       "'banana'"
      ]
     },
     "execution_count": 2,
     "metadata": {},
     "output_type": "execute_result"
    }
   ],
   "source": [
    "# Exercise 2\n",
    "fruits[2]"
   ]
  },
  {
   "cell_type": "code",
   "execution_count": 3,
   "metadata": {},
   "outputs": [
    {
     "name": "stdout",
     "output_type": "stream",
     "text": [
      "['mango', 'peach']\n",
      "['mango', 'peach']\n"
     ]
    }
   ],
   "source": [
    "# Exercise 3\n",
    "print(fruits[3:])\n",
    "print(fruits[-2:])  # alternative"
   ]
  },
  {
   "cell_type": "code",
   "execution_count": 4,
   "metadata": {},
   "outputs": [
    {
     "name": "stdout",
     "output_type": "stream",
     "text": [
      "['orange', 'pear', 'banana', 'mango', 'peach']\n"
     ]
    }
   ],
   "source": [
    "# Exercise 4\n",
    "fruits[0] = \"orange\"\n",
    "print(fruits)"
   ]
  },
  {
   "cell_type": "code",
   "execution_count": 5,
   "metadata": {},
   "outputs": [
    {
     "name": "stdout",
     "output_type": "stream",
     "text": [
      "['orange', 'pear', 'banana', 'mango', 'peach', 'kiwi']\n"
     ]
    }
   ],
   "source": [
    "# Exercise 5\n",
    "fruits.append(\"kiwi\")\n",
    "print(fruits)"
   ]
  },
  {
   "cell_type": "code",
   "execution_count": 6,
   "metadata": {},
   "outputs": [
    {
     "name": "stdout",
     "output_type": "stream",
     "text": [
      "['orange', 'banana', 'mango', 'peach', 'kiwi']\n"
     ]
    }
   ],
   "source": [
    "# Exercise 6\n",
    "fruits.remove(\"pear\")\n",
    "print(fruits)"
   ]
  },
  {
   "cell_type": "code",
   "execution_count": 7,
   "metadata": {},
   "outputs": [
    {
     "name": "stdout",
     "output_type": "stream",
     "text": [
      "['orange', 'mango', 'peach', 'kiwi']\n"
     ]
    }
   ],
   "source": [
    "# Exercise 6 alternative\n",
    "del fruits[1]\n",
    "print(fruits)"
   ]
  },
  {
   "cell_type": "markdown",
   "metadata": {},
   "source": [
    "### Tuples\n",
    "\n",
    "```python\n",
    "# Example\n",
    "flag = (\"red\", \"white\", \"blue\")\n",
    "```\n",
    "\n",
    "1. Assign the variable `workweek = (\"Monday\", \"Tuesday\", \"Wednesday\", \"Thursday\", \"Friday\")`\n",
    "2. Use the index position (square brackets) to print your favourite workday\n",
    "3. Use the index positions to print the last two days of the workweek\n",
    "4. Use the `.count()` method to find out how many times the letter `b` is in `(\"a\", \"b\", \"b\", \"a\", \"b\", \"a\", \"b\", \"b\")`\n",
    "5. *Trick question*: remove `\"Monday\"` from the workweek"
   ]
  },
  {
   "cell_type": "code",
   "execution_count": 8,
   "metadata": {},
   "outputs": [],
   "source": [
    "# Exercise 1\n",
    "workweek = (\"Monday\", \"Tuesday\", \"Wednesday\", \"Thursday\", \"Friday\")"
   ]
  },
  {
   "cell_type": "code",
   "execution_count": 9,
   "metadata": {},
   "outputs": [
    {
     "data": {
      "text/plain": [
       "'Friday'"
      ]
     },
     "execution_count": 9,
     "metadata": {},
     "output_type": "execute_result"
    }
   ],
   "source": [
    "# Exercise 2\n",
    "workweek[-1]"
   ]
  },
  {
   "cell_type": "code",
   "execution_count": 10,
   "metadata": {},
   "outputs": [
    {
     "data": {
      "text/plain": [
       "('Thursday', 'Friday')"
      ]
     },
     "execution_count": 10,
     "metadata": {},
     "output_type": "execute_result"
    }
   ],
   "source": [
    "# Exercise 3\n",
    "workweek[-2:]\n",
    "workweek[3:]  # alternative"
   ]
  },
  {
   "cell_type": "code",
   "execution_count": 11,
   "metadata": {},
   "outputs": [
    {
     "data": {
      "text/plain": [
       "5"
      ]
     },
     "execution_count": 11,
     "metadata": {},
     "output_type": "execute_result"
    }
   ],
   "source": [
    "# Exercise 4\n",
    "(\"a\", \"b\", \"b\", \"a\", \"b\", \"a\", \"b\", \"b\").count(\"b\")"
   ]
  },
  {
   "cell_type": "code",
   "execution_count": 12,
   "metadata": {},
   "outputs": [],
   "source": [
    "# Exercise 5\n",
    "# Remove or del methods don't exist for tuples. The only way is to re-assign the variable\n",
    "workweek = (\"Tuesday\", \"Wednesday\", \"Thursday\", \"Friday\")"
   ]
  },
  {
   "cell_type": "markdown",
   "metadata": {},
   "source": [
    "### Dictionaries\n",
    "\n",
    "```python\n",
    "# Example \n",
    "person = {\"name\": \"Alice\", \"age\": 42, \"email\": \"alice@wonderland.com\"}\n",
    "print(person.get(\"email\"))\n",
    "print(person[\"email\"])   # shortcut\n",
    "```\n",
    "\n",
    "1. Assign the variable `grades = {\"French\": 75, \"English\": 95, \"Math\": 100, \"Biology\": 80}`\n",
    "2. Use the `.get()` method to print the grade for `Biology`\n",
    "3. Get the grade for `Biology` again by using the shortcut (see example)\n",
    "4. Use the `.keys()` method to print all the keys (subjects) in the dictionary\n",
    "5. Use the `.values()` method to print all the values (grades) in the dictionary\n",
    "6. Use the `.items()` method to print a list of tuples of the subjects and their respective grades\n",
    "\n",
    "*Extra challenge 1*: add `\"Drama\"` to the dictionary with a grade of `85`\n",
    "\n",
    "*Extra challenge 2*: calculate the average grade"
   ]
  },
  {
   "cell_type": "code",
   "execution_count": 13,
   "metadata": {},
   "outputs": [],
   "source": [
    "# Exercise 1\n",
    "grades = {\"French\": 75, \"English\": 95, \"Math\": 100, \"Biology\": 80}"
   ]
  },
  {
   "cell_type": "code",
   "execution_count": 14,
   "metadata": {},
   "outputs": [
    {
     "data": {
      "text/plain": [
       "80"
      ]
     },
     "execution_count": 14,
     "metadata": {},
     "output_type": "execute_result"
    }
   ],
   "source": [
    "# Exercise 2\n",
    "grades.get(\"Biology\")"
   ]
  },
  {
   "cell_type": "code",
   "execution_count": 15,
   "metadata": {},
   "outputs": [
    {
     "data": {
      "text/plain": [
       "80"
      ]
     },
     "execution_count": 15,
     "metadata": {},
     "output_type": "execute_result"
    }
   ],
   "source": [
    "# Exercise 3\n",
    "grades[\"Biology\"]"
   ]
  },
  {
   "cell_type": "code",
   "execution_count": 16,
   "metadata": {},
   "outputs": [
    {
     "data": {
      "text/plain": [
       "dict_keys(['French', 'English', 'Math', 'Biology'])"
      ]
     },
     "execution_count": 16,
     "metadata": {},
     "output_type": "execute_result"
    }
   ],
   "source": [
    "# Exercise 4\n",
    "grades.keys()"
   ]
  },
  {
   "cell_type": "code",
   "execution_count": 17,
   "metadata": {},
   "outputs": [
    {
     "data": {
      "text/plain": [
       "dict_values([75, 95, 100, 80])"
      ]
     },
     "execution_count": 17,
     "metadata": {},
     "output_type": "execute_result"
    }
   ],
   "source": [
    "# Exercise 5\n",
    "grades.values()"
   ]
  },
  {
   "cell_type": "code",
   "execution_count": 18,
   "metadata": {},
   "outputs": [
    {
     "data": {
      "text/plain": [
       "dict_items([('French', 75), ('English', 95), ('Math', 100), ('Biology', 80)])"
      ]
     },
     "execution_count": 18,
     "metadata": {},
     "output_type": "execute_result"
    }
   ],
   "source": [
    "# Exercise 6\n",
    "grades.items()"
   ]
  },
  {
   "cell_type": "code",
   "execution_count": 19,
   "metadata": {
    "scrolled": true
   },
   "outputs": [
    {
     "name": "stdout",
     "output_type": "stream",
     "text": [
      "{'French': 75, 'English': 95, 'Math': 100, 'Biology': 80, 'Drama': 85}\n"
     ]
    }
   ],
   "source": [
    "# Extra challenge 1\n",
    "grades[\"Drama\"] = 85\n",
    "grades.update({\"Drama\": 85})  # alternative\n",
    "print(grades)"
   ]
  },
  {
   "cell_type": "code",
   "execution_count": 20,
   "metadata": {},
   "outputs": [
    {
     "data": {
      "text/plain": [
       "87.0"
      ]
     },
     "execution_count": 20,
     "metadata": {},
     "output_type": "execute_result"
    }
   ],
   "source": [
    "# Extra challenge 2\n",
    "sum(grades.values()) / len(grades.values())"
   ]
  },
  {
   "cell_type": "markdown",
   "metadata": {},
   "source": [
    "### Sets\n",
    "\n",
    "```python\n",
    "# Example\n",
    "characters = [\"a\", \"b\", \"b\", \"c\"]\n",
    "unique_chars = set(characters) \n",
    "print(unique_chars)\n",
    "```\n",
    "\n",
    "Exercise:\n",
    "1. Assign the variable `names = [\"Deborah\", \"John\", \"Tyler\", \"Linda\", \"Douglas\", \"Jessica\", \"Tyler\", \"John\", \"Danielle\", \"Jessica\"]`\n",
    "2. Create variable `unique_names` and assign it list of the names, but without duplicates. Print the result to the screen.\n",
    "3. How often does a name appear multiple times in the list? Use Python to find the answer.\n",
    "4. Use the `.add()` method to add your own name to the list with unique names\n",
    "\n",
    "*Extra challenge*: Which names are the most common? How often do they appear in the original list?"
   ]
  },
  {
   "cell_type": "code",
   "execution_count": 21,
   "metadata": {},
   "outputs": [],
   "source": [
    "# Exercise 1\n",
    "names = [\"Deborah\", \"John\", \"Tyler\", \"Linda\", \"Douglas\", \n",
    "         \"Jessica\", \"Tyler\", \"John\", \"Danielle\", \"Jessica\"]"
   ]
  },
  {
   "cell_type": "code",
   "execution_count": 22,
   "metadata": {},
   "outputs": [
    {
     "name": "stdout",
     "output_type": "stream",
     "text": [
      "{'John', 'Danielle', 'Jessica', 'Deborah', 'Tyler', 'Linda', 'Douglas'}\n"
     ]
    }
   ],
   "source": [
    "# Exercise 2\n",
    "unique_names = set(names)\n",
    "print(unique_names)"
   ]
  },
  {
   "cell_type": "code",
   "execution_count": 23,
   "metadata": {},
   "outputs": [
    {
     "name": "stdout",
     "output_type": "stream",
     "text": [
      "10\n",
      "7\n",
      "The number of duplicates is: 3\n"
     ]
    }
   ],
   "source": [
    "# Exercise 3\n",
    "print(len(names))\n",
    "print(len(unique_names))\n",
    "print(\"The number of duplicates is:\", len(names) - len(unique_names))"
   ]
  },
  {
   "cell_type": "code",
   "execution_count": 24,
   "metadata": {
    "editable": true,
    "slideshow": {
     "slide_type": ""
    },
    "tags": []
   },
   "outputs": [
    {
     "name": "stdout",
     "output_type": "stream",
     "text": [
      "{'John', 'Danielle', 'Joris', 'Jessica', 'Deborah', 'Tyler', 'Linda', 'Douglas'}\n"
     ]
    }
   ],
   "source": [
    "# Exercise 4\n",
    "unique_names.add(\"Joris\")\n",
    "print(unique_names)"
   ]
  },
  {
   "cell_type": "code",
   "execution_count": 25,
   "metadata": {},
   "outputs": [
    {
     "data": {
      "text/plain": [
       "[('John', 2), ('Tyler', 2), ('Jessica', 2)]"
      ]
     },
     "execution_count": 25,
     "metadata": {},
     "output_type": "execute_result"
    }
   ],
   "source": [
    "# Extra challenge \n",
    "from collections import Counter\n",
    "Counter(names).most_common(3)"
   ]
  }
 ],
 "metadata": {
  "kernelspec": {
   "display_name": "Python 3 (ipykernel)",
   "language": "python",
   "name": "python3"
  },
  "language_info": {
   "codemirror_mode": {
    "name": "ipython",
    "version": 3
   },
   "file_extension": ".py",
   "mimetype": "text/x-python",
   "name": "python",
   "nbconvert_exporter": "python",
   "pygments_lexer": "ipython3",
   "version": "3.11.9"
  }
 },
 "nbformat": 4,
 "nbformat_minor": 4
}
